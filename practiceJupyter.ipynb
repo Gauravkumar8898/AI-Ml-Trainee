{
 "cells": [
  {
   "cell_type": "code",
   "execution_count": 2,
   "id": "122ca0b7",
   "metadata": {},
   "outputs": [
    {
     "name": "stdout",
     "output_type": "stream",
     "text": [
      "Arjun Pandit\n"
     ]
    }
   ],
   "source": [
    "print(\"Arjun Pandit\")"
   ]
  },
  {
   "cell_type": "code",
   "execution_count": 16,
   "id": "8870565b",
   "metadata": {},
   "outputs": [
    {
     "name": "stdout",
     "output_type": "stream",
     "text": [
      "v Kumar\n"
     ]
    }
   ],
   "source": [
    "name =  \"Gaurav Kumar\"\n",
    "print(name[:])"
   ]
  },
  {
   "cell_type": "code",
   "execution_count": 21,
   "id": "07eb9379",
   "metadata": {},
   "outputs": [
    {
     "name": "stdout",
     "output_type": "stream",
     "text": [
      "Gaurav Kumar"
     ]
    }
   ],
   "source": [
    "for x in name:\n",
    "    print(x,end=\"\")"
   ]
  },
  {
   "cell_type": "code",
   "execution_count": 22,
   "id": "67f4885c",
   "metadata": {},
   "outputs": [
    {
     "name": "stdout",
     "output_type": "stream",
     "text": [
      "12\n"
     ]
    }
   ],
   "source": [
    "print(len(name))"
   ]
  },
  {
   "cell_type": "code",
   "execution_count": 24,
   "id": "335fd364",
   "metadata": {},
   "outputs": [
    {
     "name": "stdout",
     "output_type": "stream",
     "text": [
      "True\n"
     ]
    }
   ],
   "source": [
    "print(\"Kumar\" in name)"
   ]
  },
  {
   "cell_type": "code",
   "execution_count": 30,
   "id": "eefbeb61",
   "metadata": {},
   "outputs": [
    {
     "name": "stdout",
     "output_type": "stream",
     "text": [
      "uma\n"
     ]
    }
   ],
   "source": [
    "print(name[-4:-1])"
   ]
  },
  {
   "cell_type": "code",
   "execution_count": 31,
   "id": "f215ba8a",
   "metadata": {},
   "outputs": [
    {
     "name": "stdout",
     "output_type": "stream",
     "text": [
      "GAURAV KUMAR\n"
     ]
    }
   ],
   "source": [
    "print(name.upper())"
   ]
  },
  {
   "cell_type": "code",
   "execution_count": 35,
   "id": "e1d91b37",
   "metadata": {},
   "outputs": [],
   "source": [
    "name = \"   hello, my   name is Gaurav    \""
   ]
  },
  {
   "cell_type": "code",
   "execution_count": 36,
   "id": "a8c14cfc",
   "metadata": {},
   "outputs": [
    {
     "name": "stdout",
     "output_type": "stream",
     "text": [
      "   hello, my   name is Gaurav    \n",
      "hello, my   name is Gaurav\n"
     ]
    }
   ],
   "source": [
    "print(name)\n",
    "print(name.strip())"
   ]
  },
  {
   "cell_type": "code",
   "execution_count": 37,
   "id": "e7a32607",
   "metadata": {},
   "outputs": [
    {
     "name": "stdout",
     "output_type": "stream",
     "text": [
      "   hello, my   name is Arjun    \n"
     ]
    }
   ],
   "source": [
    "print(name.replace(\"Gaurav\",\"Arjun\"))"
   ]
  },
  {
   "cell_type": "code",
   "execution_count": 38,
   "id": "08d3c3f6",
   "metadata": {},
   "outputs": [
    {
     "name": "stdout",
     "output_type": "stream",
     "text": [
      "   hello, my   name is Gaurav    \n"
     ]
    }
   ],
   "source": [
    "print(name)"
   ]
  },
  {
   "cell_type": "code",
   "execution_count": 39,
   "id": "6ab3f32d",
   "metadata": {},
   "outputs": [
    {
     "name": "stdout",
     "output_type": "stream",
     "text": [
      "['   hello', ' my   name is Gaurav    ']\n"
     ]
    }
   ],
   "source": [
    "print(name.split(\",\"))"
   ]
  },
  {
   "cell_type": "code",
   "execution_count": 88,
   "id": "24fc054b",
   "metadata": {},
   "outputs": [],
   "source": [
    "import numpy as np"
   ]
  },
  {
   "cell_type": "code",
   "execution_count": 89,
   "id": "25eaa5f2",
   "metadata": {},
   "outputs": [],
   "source": [
    "speed = [99,86,87,88,111,86,103,87,94,78,77,85,86]"
   ]
  },
  {
   "cell_type": "code",
   "execution_count": 90,
   "id": "8166bc46",
   "metadata": {},
   "outputs": [
    {
     "name": "stdout",
     "output_type": "stream",
     "text": [
      "89.76923076923077\n"
     ]
    }
   ],
   "source": [
    "print(np.mean(speed))"
   ]
  },
  {
   "cell_type": "code",
   "execution_count": 91,
   "id": "87b46f4e",
   "metadata": {},
   "outputs": [
    {
     "name": "stdout",
     "output_type": "stream",
     "text": [
      "87.0\n"
     ]
    }
   ],
   "source": [
    "print(np.median(speed))"
   ]
  },
  {
   "cell_type": "code",
   "execution_count": 92,
   "id": "94e9553a",
   "metadata": {},
   "outputs": [
    {
     "name": "stdout",
     "output_type": "stream",
     "text": [
      "ModeResult(mode=86, count=3)\n"
     ]
    }
   ],
   "source": [
    "from scipy import stats\n",
    "print(stats.mode(speed))"
   ]
  },
  {
   "cell_type": "code",
   "execution_count": 93,
   "id": "096a95ee",
   "metadata": {},
   "outputs": [
    {
     "name": "stdout",
     "output_type": "stream",
     "text": [
      "9.258292301032677\n"
     ]
    }
   ],
   "source": [
    "print(np.std(speed))"
   ]
  },
  {
   "cell_type": "code",
   "execution_count": 50,
   "id": "5adfeef8",
   "metadata": {},
   "outputs": [
    {
     "name": "stdout",
     "output_type": "stream",
     "text": [
      "85.71597633136093\n"
     ]
    }
   ],
   "source": [
    "print(np.var(speed))"
   ]
  },
  {
   "cell_type": "code",
   "execution_count": 94,
   "id": "5cf3cff0",
   "metadata": {},
   "outputs": [
    {
     "name": "stdout",
     "output_type": "stream",
     "text": [
      "73.2\n"
     ]
    }
   ],
   "source": [
    "marks = [73,74,75,76,77]\n",
    "print(np.percentile(marks,5))"
   ]
  },
  {
   "cell_type": "code",
   "execution_count": 101,
   "id": "d8724801",
   "metadata": {},
   "outputs": [],
   "source": [
    "x=np.random.uniform(0,5,250)"
   ]
  },
  {
   "cell_type": "code",
   "execution_count": 102,
   "id": "6753e264",
   "metadata": {},
   "outputs": [
    {
     "name": "stdout",
     "output_type": "stream",
     "text": [
      "[1.73422964 2.22878857 1.23902971 4.48767503 3.62788048 0.02135011\n",
      " 2.42344299 4.31601817 2.8599777  4.98638311 2.40493944 4.76206756\n",
      " 3.25673309 4.44697199 2.0140232  2.91620744 4.93591351 3.37974758\n",
      " 4.10931625 1.50154315 4.79084019 0.76032443 0.47613108 0.56509443\n",
      " 1.7363382  1.90804111 0.61477742 3.06704272 1.0855015  0.08723657\n",
      " 0.60907049 4.10247208 0.21661106 2.94784178 1.38544321 3.99743724\n",
      " 0.67603562 1.86443363 3.92023858 4.57170569 3.68959826 1.72354102\n",
      " 4.19749347 3.88155115 4.10569152 4.68655208 2.90422359 2.40897519\n",
      " 3.47530726 1.00326207 1.18331327 0.81280403 0.03527499 3.31388019\n",
      " 1.21094741 0.26040394 0.81838566 2.76001448 2.21084821 1.29027561\n",
      " 0.99420122 4.14766067 4.67592167 0.81895977 0.78832347 1.73588263\n",
      " 4.15854018 3.99730044 1.75828646 2.05036458 2.73119471 4.06947914\n",
      " 0.49022437 0.94370839 2.59580407 0.83913836 0.15227878 0.19666853\n",
      " 2.814601   0.55362703 3.61589722 2.52992161 1.63740442 1.19020964\n",
      " 1.65216245 1.1225196  2.01196588 0.77578913 0.26195046 3.60453335\n",
      " 0.99679369 3.73743837 1.95614172 1.22181374 1.11498178 1.90915123\n",
      " 0.73503331 3.61533289 4.43112106 2.60382117 2.52932123 4.84595218\n",
      " 1.95265421 1.04302922 2.56293825 0.51124292 1.94041815 1.94098924\n",
      " 4.63129481 3.06023435 0.83444534 1.92599024 0.31316428 3.47953138\n",
      " 0.7482063  2.11569802 3.68739596 0.116651   3.29498946 2.22019374\n",
      " 0.75936998 3.25939091 0.35221603 0.1119839  4.72898383 4.57856643\n",
      " 1.31665241 2.20884469 3.19162577 3.16542402 1.61913555 4.60033317\n",
      " 0.43496162 4.04106338 4.07446123 2.36333924 3.77351161 4.30286835\n",
      " 2.69878874 4.87418404 3.22526957 2.56355867 3.34019931 2.01377227\n",
      " 1.85335354 1.74807768 4.9973005  4.95340532 3.96191814 1.5609847\n",
      " 2.49000537 0.32512815 0.89295231 2.83307053 4.35943482 4.1169264\n",
      " 1.10921661 3.7997985  1.33524539 1.49746811 4.11942794 2.09895186\n",
      " 0.78276454 0.64187829 4.3137448  4.87991586 4.39623909 0.32644631\n",
      " 4.90080299 3.38224115 3.5218441  4.70523897 2.7423099  4.81498468\n",
      " 0.61728099 1.46687894 2.22617671 2.46801803 4.44489608 1.36044543\n",
      " 4.67295505 4.0419951  1.17213446 4.49151048 4.61172631 2.93367173\n",
      " 2.81826082 4.63941263 4.31520811 4.99399378 2.53844777 0.92504976\n",
      " 4.14892355 3.8290799  1.48572061 3.36599771 4.21454891 2.41499748\n",
      " 1.19335112 0.24044652 0.26758806 2.58958831 2.94394376 4.43323899\n",
      " 2.95628689 1.47841038 3.88274726 1.32951069 3.8697367  1.73499005\n",
      " 4.57437428 0.03308104 0.14838974 0.7089568  3.15427639 4.25176026\n",
      " 3.05533151 4.70913723 4.05110593 4.12382806 3.04054767 1.34951637\n",
      " 3.85003393 2.5605967  1.23443944 4.62044235 0.40247684 2.41951637\n",
      " 4.09919925 2.9764528  3.04662364 0.14532359 2.73582628 0.10314537\n",
      " 1.54844954 0.81333264 2.33883586 0.96811595 2.5871155  3.5445196\n",
      " 2.57108867 0.33839693 4.11482293 4.50163753 2.34044615 4.39728595\n",
      " 3.30163666 4.95310214 2.00625638 2.29562842]\n"
     ]
    }
   ],
   "source": [
    "print(x)"
   ]
  },
  {
   "cell_type": "code",
   "execution_count": 97,
   "id": "298bdac3",
   "metadata": {},
   "outputs": [
    {
     "name": "stdout",
     "output_type": "stream",
     "text": [
      "2.5256390145197476\n"
     ]
    }
   ],
   "source": [
    "print(np.mean(x))"
   ]
  },
  {
   "cell_type": "code",
   "execution_count": 98,
   "id": "ce2e5280",
   "metadata": {},
   "outputs": [
    {
     "name": "stdout",
     "output_type": "stream",
     "text": [
      "2.7103301299366813\n"
     ]
    }
   ],
   "source": [
    "print(np.median(x))"
   ]
  },
  {
   "cell_type": "code",
   "execution_count": 103,
   "id": "9793615e",
   "metadata": {},
   "outputs": [
    {
     "name": "stdout",
     "output_type": "stream",
     "text": [
      "ModeResult(mode=0.021350108854552574, count=1)\n"
     ]
    }
   ],
   "source": [
    "print(stats.mode(x))"
   ]
  },
  {
   "cell_type": "code",
   "execution_count": 104,
   "id": "9d073e00",
   "metadata": {},
   "outputs": [
    {
     "name": "stdout",
     "output_type": "stream",
     "text": [
      "0.021350108854552574\n"
     ]
    }
   ],
   "source": [
    "print(min(x))"
   ]
  },
  {
   "cell_type": "code",
   "execution_count": 105,
   "id": "195af3ed",
   "metadata": {},
   "outputs": [],
   "source": [
    "import matplotlib.pyplot as plt"
   ]
  },
  {
   "cell_type": "code",
   "execution_count": 87,
   "id": "1fd1244d",
   "metadata": {},
   "outputs": [
    {
     "data": {
      "image/png": "[encoded data removed]",
      "text/plain": [
       "<Figure size 640x480 with 1 Axes>"
      ]
     },
     "metadata": {},
     "output_type": "display_data"
    }
   ],
   "source": [
    "plt.hist(x,5)\n",
    "plt.show()"
   ]
  },
  {
   "cell_type": "code",
   "execution_count": 114,
   "id": "7460a388",
   "metadata": {},
   "outputs": [],
   "source": [
    "x= np.random.normal(5.0,1.0,10000)"
   ]
  },
  {
   "cell_type": "code",
   "execution_count": 115,
   "id": "14a9559e",
   "metadata": {},
   "outputs": [
    {
     "name": "stdout",
     "output_type": "stream",
     "text": [
      "[6.20756701 4.90942713 4.80619645 ... 3.47950602 6.29327469 4.63776737]\n"
     ]
    }
   ],
   "source": [
    "print(x)"
   ]
  },
  {
   "cell_type": "code",
   "execution_count": 116,
   "id": "ee986d66",
   "metadata": {},
   "outputs": [
    {
     "data": {
      "image/png": "[encoded data removed]",
      "text/plain": [
       "<Figure size 640x480 with 1 Axes>"
      ]
     },
     "metadata": {},
     "output_type": "display_data"
    }
   ],
   "source": [
    "plt.hist(x)\n",
    "plt.show()"
   ]
  },
  {
   "cell_type": "code",
   "execution_count": null,
   "id": "98be2bd9",
   "metadata": {},
   "outputs": [],
   "source": []
  },
  {
   "cell_type": "code",
   "execution_count": null,
   "id": "8727769a",
   "metadata": {},
   "outputs": [],
   "source": []
  }
 ],
 "metadata": {
  "kernelspec": {
   "display_name": "Python 3 (ipykernel)",
   "language": "python",
   "name": "python3"
  },
  "language_info": {
   "codemirror_mode": {
    "name": "ipython",
    "version": 3
   },
   "file_extension": ".py",
   "mimetype": "text/x-python",
   "name": "python",
   "nbconvert_exporter": "python",
   "pygments_lexer": "ipython3",
   "version": "3.11.5"
  }
 },
 "nbformat": 4,
 "nbformat_minor": 5
}
